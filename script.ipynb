{
 "cells": [
  {
   "cell_type": "code",
   "execution_count": null,
   "metadata": {},
   "outputs": [],
   "source": [
    "import pandas as pd"
   ]
  },
  {
   "cell_type": "code",
   "execution_count": 34,
   "metadata": {},
   "outputs": [],
   "source": [
    "\n",
    "data = pd.read_csv('vgsales.csv')\n",
    "\n",
    "dim_platform = data[['Platform']].drop_duplicates().reset_index(drop=True)\n",
    "dim_platform['Platform_ID'] = dim_platform.index + 1\n",
    "\n",
    "dim_genre = data[['Genre']].drop_duplicates().reset_index(drop=True)\n",
    "dim_genre['Genre_ID'] = dim_genre.index + 1\n",
    "\n",
    "dim_publisher = data[['Publisher']].drop_duplicates().reset_index(drop=True)\n",
    "dim_publisher['Publisher_ID'] = dim_publisher.index + 1\n",
    "\n",
    "dim_year = data[['Year']].drop_duplicates().reset_index(drop=True)\n",
    "dim_year['Year_ID'] = dim_year.index + 1\n",
    "\n",
    "data = pd.merge(data, dim_platform, on='Platform', how='left')\n",
    "data = pd.merge(data, dim_genre, on='Genre', how='left')\n",
    "data = pd.merge(data, dim_publisher, on='Publisher', how='left')\n",
    "data = pd.merge(data, dim_year, on='Year', how='left')\n",
    "\n",
    "fact_table = data[['Year_ID', 'Platform_ID', 'Genre_ID', 'Publisher_ID', 'Name', \n",
    "                   'NA_Sales', 'EU_Sales', 'JP_Sales', 'Other_Sales', 'Global_Sales']]\n",
    "\n",
    "with pd.ExcelWriter('game_sales_data.xlsx', engine='openpyxl') as writer:\n",
    "    dim_platform.to_excel(writer, sheet_name='Dim_Platform', index=False)\n",
    "    dim_genre.to_excel(writer, sheet_name='Dim_Genre', index=False)\n",
    "    dim_publisher.to_excel(writer, sheet_name='Dim_Publisher', index=False)\n",
    "    dim_year.to_excel(writer, sheet_name='Dim_Year', index=False)\n",
    "    fact_table.to_excel(writer, sheet_name='Fact_Table', index=False)\n"
   ]
  }
 ],
 "metadata": {
  "kernelspec": {
   "display_name": "Python 3",
   "language": "python",
   "name": "python3"
  },
  "language_info": {
   "codemirror_mode": {
    "name": "ipython",
    "version": 3
   },
   "file_extension": ".py",
   "mimetype": "text/x-python",
   "name": "python",
   "nbconvert_exporter": "python",
   "pygments_lexer": "ipython3",
   "version": "3.11.9"
  }
 },
 "nbformat": 4,
 "nbformat_minor": 2
}
