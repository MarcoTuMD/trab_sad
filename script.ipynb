{
 "cells": [
  {
   "cell_type": "code",
   "execution_count": 1,
   "metadata": {},
   "outputs": [
    {
     "name": "stderr",
     "output_type": "stream",
     "text": [
      "C:\\Users\\marco\\AppData\\Local\\Temp\\ipykernel_26340\\4080736814.py:1: DeprecationWarning: \n",
      "Pyarrow will become a required dependency of pandas in the next major release of pandas (pandas 3.0),\n",
      "(to allow more performant data types, such as the Arrow string type, and better interoperability with other libraries)\n",
      "but was not found to be installed on your system.\n",
      "If this would cause problems for you,\n",
      "please provide us feedback at https://github.com/pandas-dev/pandas/issues/54466\n",
      "        \n",
      "  import pandas as pd\n"
     ]
    }
   ],
   "source": [
    "import pandas as pd"
   ]
  },
  {
   "cell_type": "code",
   "execution_count": 1,
   "metadata": {},
   "outputs": [
    {
     "name": "stderr",
     "output_type": "stream",
     "text": [
      "C:\\Users\\marco\\AppData\\Local\\Temp\\ipykernel_15628\\1481342525.py:1: DeprecationWarning: \n",
      "Pyarrow will become a required dependency of pandas in the next major release of pandas (pandas 3.0),\n",
      "(to allow more performant data types, such as the Arrow string type, and better interoperability with other libraries)\n",
      "but was not found to be installed on your system.\n",
      "If this would cause problems for you,\n",
      "please provide us feedback at https://github.com/pandas-dev/pandas/issues/54466\n",
      "        \n",
      "  import pandas as pd\n"
     ]
    }
   ],
   "source": [
    "import pandas as pd\n",
    "\n",
    "# Carregar os dados\n",
    "data = pd.read_csv('vgsales.csv')\n",
    "\n",
    "# Ajustar os valores de vendas para a escala correta (multiplicar por 1.000.000)\n",
    "sales_columns = ['NA_Sales', 'EU_Sales', 'JP_Sales', 'Other_Sales', 'Global_Sales']\n",
    "for column in sales_columns:\n",
    "    data[column] = data[column] * 1000000\n",
    "\n",
    "# Criar as dimensões\n",
    "dim_platform = data[['Platform']].drop_duplicates().reset_index(drop=True)\n",
    "dim_platform['Platform_ID'] = dim_platform.index + 1\n",
    "\n",
    "dim_genre = data[['Genre']].drop_duplicates().reset_index(drop=True)\n",
    "dim_genre['Genre_ID'] = dim_genre.index + 1\n",
    "\n",
    "dim_publisher = data[['Publisher']].drop_duplicates().reset_index(drop=True)\n",
    "dim_publisher['Publisher_ID'] = dim_publisher.index + 1\n",
    "\n",
    "dim_year = data[['Year']].drop_duplicates().reset_index(drop=True)\n",
    "dim_year['Year_ID'] = dim_year.index + 1\n",
    "\n",
    "locations = ['NA', 'EU', 'JP', 'Other', 'Global']\n",
    "dim_location = pd.DataFrame(locations, columns=['Location'])\n",
    "dim_location['Location_ID'] = dim_location.index + 1\n",
    "\n",
    "# Juntar as dimensões ao DataFrame principal\n",
    "data = pd.merge(data, dim_platform, on='Platform', how='left')\n",
    "data = pd.merge(data, dim_genre, on='Genre', how='left')\n",
    "data = pd.merge(data, dim_publisher, on='Publisher', how='left')\n",
    "data = pd.merge(data, dim_year, on='Year', how='left')\n",
    "\n",
    "# Criar a tabela de fatos\n",
    "fact_table = data[['Year_ID', 'Platform_ID', 'Genre_ID', 'Publisher_ID', 'Name']].reset_index(drop=True)\n",
    "fact_table['Game_ID'] = fact_table.index + 1 \n",
    "\n",
    "# Processar as vendas por localização\n",
    "game_location_sales = []\n",
    "\n",
    "for index, row in data.iterrows():\n",
    "    game_id = fact_table.loc[fact_table['Name'] == row['Name'], 'Game_ID'].values[0]\n",
    "    sales = {\n",
    "        'NA': row['NA_Sales'],\n",
    "        'EU': row['EU_Sales'],\n",
    "        'JP': row['JP_Sales'],\n",
    "        'Other': row['Other_Sales'],\n",
    "        'Global': row['Global_Sales'],\n",
    "    }\n",
    "    for loc, value in sales.items():\n",
    "        game_location_sales.append({\n",
    "            'Game_ID': game_id,\n",
    "            'Location_ID': dim_location[dim_location['Location'] == loc]['Location_ID'].values[0],\n",
    "            'Sales': value\n",
    "        })\n",
    "\n",
    "game_location_sales = pd.DataFrame(game_location_sales)\n",
    "\n",
    "# Salvar os dados em um arquivo Excel\n",
    "with pd.ExcelWriter('game_sales_data_with_locations.xlsx', engine='openpyxl') as writer:\n",
    "    dim_platform.to_excel(writer, sheet_name='Dim_Platform', index=False)\n",
    "    dim_genre.to_excel(writer, sheet_name='Dim_Genre', index=False)\n",
    "    dim_publisher.to_excel(writer, sheet_name='Dim_Publisher', index=False)\n",
    "    dim_year.to_excel(writer, sheet_name='Dim_Year', index=False)\n",
    "    dim_location.to_excel(writer, sheet_name='Dim_Location', index=False)\n",
    "    fact_table.to_excel(writer, sheet_name='Fact_Table', index=False)\n",
    "    game_location_sales.to_excel(writer, sheet_name='Game_Location_Sales', index=False)"
   ]
  }
 ],
 "metadata": {
  "kernelspec": {
   "display_name": "Python 3",
   "language": "python",
   "name": "python3"
  },
  "language_info": {
   "codemirror_mode": {
    "name": "ipython",
    "version": 3
   },
   "file_extension": ".py",
   "mimetype": "text/x-python",
   "name": "python",
   "nbconvert_exporter": "python",
   "pygments_lexer": "ipython3",
   "version": "3.11.9"
  }
 },
 "nbformat": 4,
 "nbformat_minor": 2
}
